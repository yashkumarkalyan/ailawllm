{
  "nbformat": 4,
  "nbformat_minor": 0,
  "metadata": {
    "colab": {
      "provenance": [],
      "authorship_tag": "ABX9TyPg86yAScBg0gK9ps7sxzim",
      "include_colab_link": true
    },
    "kernelspec": {
      "name": "python3",
      "display_name": "Python 3"
    },
    "language_info": {
      "name": "python"
    }
  },
  "cells": [
    {
      "cell_type": "markdown",
      "metadata": {
        "id": "view-in-github",
        "colab_type": "text"
      },
      "source": [
        "<a href=\"https://colab.research.google.com/github/yashkumarkalyan/ailawllm/blob/main/Copy_of_ailaw.ipynb\" target=\"_parent\"><img src=\"https://colab.research.google.com/assets/colab-badge.svg\" alt=\"Open In Colab\"/></a>"
      ]
    },
    {
      "cell_type": "code",
      "execution_count": 1,
      "metadata": {
        "colab": {
          "base_uri": "https://localhost:8080/"
        },
        "id": "lUMHDveGtSdv",
        "outputId": "66763cee-f4c5-4325-eaba-f768e34bf355"
      },
      "outputs": [
        {
          "output_type": "stream",
          "name": "stdout",
          "text": [
            "Requirement already satisfied: requests in /usr/local/lib/python3.10/dist-packages (2.32.3)\n",
            "Requirement already satisfied: beautifulsoup4 in /usr/local/lib/python3.10/dist-packages (4.12.3)\n",
            "Requirement already satisfied: charset-normalizer<4,>=2 in /usr/local/lib/python3.10/dist-packages (from requests) (3.3.2)\n",
            "Requirement already satisfied: idna<4,>=2.5 in /usr/local/lib/python3.10/dist-packages (from requests) (3.10)\n",
            "Requirement already satisfied: urllib3<3,>=1.21.1 in /usr/local/lib/python3.10/dist-packages (from requests) (2.2.3)\n",
            "Requirement already satisfied: certifi>=2017.4.17 in /usr/local/lib/python3.10/dist-packages (from requests) (2024.8.30)\n",
            "Requirement already satisfied: soupsieve>1.2 in /usr/local/lib/python3.10/dist-packages (from beautifulsoup4) (2.6)\n"
          ]
        }
      ],
      "source": [
        "!pip install requests beautifulsoup4\n"
      ]
    },
    {
      "cell_type": "code",
      "source": [
        "import requests\n",
        "from bs4 import BeautifulSoup\n",
        "\n",
        "url = \"https://www.whitecase.com/insight-our-thinking/ai-watch-global-regulatory-tracker\"\n",
        "response = requests.get(url)\n",
        "soup = BeautifulSoup(response.content, \"html.parser\")\n",
        "\n",
        "# Extract text and URLs\n",
        "text_data = []\n",
        "for paragraph in soup.find_all(\"p\"):\n",
        "    text_data.append(paragraph.get_text())\n",
        "\n",
        "urls = []\n",
        "for link in soup.find_all(\"a\", href=True):\n",
        "    urls.append(link['href'])\n",
        "\n",
        "# Combine text data and URLs\n",
        "combined_data = {\n",
        "    \"text\": text_data,\n",
        "    \"urls\": urls\n",
        "}\n",
        "\n",
        "print(combined_data)\n"
      ],
      "metadata": {
        "colab": {
          "base_uri": "https://localhost:8080/"
        },
        "id": "8-u9JCF5tZSZ",
        "outputId": "b13d2073-51c0-44e1-e601-035742837d3a"
      },
      "execution_count": 2,
      "outputs": [
        {
          "output_type": "stream",
          "name": "stdout",
          "text": [
            "{'text': ['\\nKeeping track of AI regulatory developments around the world.\\n\\n', 'Keeping track of AI regulatory developments around the world.', 'Artificial intelligence (AI) has made enormous strides in recent years and has increasingly moved into the public consciousness.', \"Increases in computational power, coupled with advances in machine learning, have fueled the rapid rise of AI. This has brought enormous opportunities, as new AI applications have given rise to new ways of doing business. It has also brought potential risks, from unintended impacts on individuals (e.g., AI errors harming an individual's credit score or public reputation) to the risk of misuse of AI by malicious third parties (e.g., by manipulating AI systems to produce inaccurate or misleading output, or by using AI to create deepfakes).\", 'Governments and regulatory bodies around the world have had to act quickly to try to ensure that their regulatory frameworks do not become obsolete. In addition, international organizations such as the G7, the UN, the Council of Europe and the OECD have responded to this technological shift by issuing their own AI frameworks. But they are all scrambling to stay abreast of technological developments, and already there are signs that emerging efforts to regulate AI will struggle to keep pace. In an effort to introduce some degree of international consensus, the UK government organized the first global AI Safety Summit in November 2023, with the aim of encouraging the safe and responsible development of AI around the world.\\xa0', 'Most jurisdictions have sought to strike a balance between encouraging AI innovation and investment, while at the same time attempting to create rules to protect against possible harms. However, jurisdictions around the world have taken substantially different approaches to achieving these goals, which has in turn increased the risk that businesses face from a fragmented and inconsistent AI regulatory environment. Nevertheless, certain trends are becoming clearer at this stage:', 'Businesses in almost all sectors need to keep a close eye on these developments to ensure that they are aware of the AI regulations and forthcoming trends, in order to identify new opportunities and new potential business risks. But even at this early stage, the inconsistent approaches each jurisdiction has taken to the core questions of how to regulate AI is clear. As a result, it appears that international businesses may face substantially different AI regulatory compliance challenges in different parts of the world. To that end, this AI Tracker is designed to provide businesses with an understanding of the state of play of AI regulations in the core markets in which they operate. It provides analysis of the approach that each jurisdiction has taken to AI regulation and provides helpful commentary on the likely direction of travel.', 'Because global AI regulations remain in a constant state of flux, this AI Tracker will develop over time, adding updates and new jurisdictions when appropriate. Stay tuned, as we continue to provide insights to help businesses navigate these ever-evolving issues.', 'Voluntary AI Ethics Principles guide responsible AI development in Australia, with potential reforms under consideration.', \"The enactment of Brazil's proposed AI Regulation remains uncertain with compliance requirements pending review.\", 'AIDA expected to regulate AI at the federal level in Canada but provincial legislatures have yet to be introduced.', \"The Interim AI Measures is China's first specific, administrative regulation on the management of generative AI services.\", 'The Council of Europe is developing a new Convention on AI to safeguard human rights, democracy, and the rule of law in the digital space covering governance, accountability and risk assessment.', 'The successful implementation of the EU AI Act into national law is the primary focus for the Czech Republic, with its National AI Strategy being the main policy document.', 'The EU introduces the pioneering EU AI Act, aiming to become a global hub for human-centric, trustworthy AI.', '\\xa0', 'France actively participates in international efforts and proposes sector-specific laws.', \"The G7's AI regulations mandate Member States' compliance with international human rights law and relevant international frameworks.\", 'Germany evaluates AI-specific legislation needs and actively engages in international initiatives.', 'National frameworks inform India’s approach to AI regulation, with sector-specific initiatives in finance and health sectors.', 'Israel promotes responsible AI innovation through policy and sector-specific guidelines to address core issues and ethical principles.', 'Italy engages in political discussions for future laws.', 'Japan adopts a soft law approach to AI governance but lawmakers advance proposal for a hard law approach for certain harms.', \"Kenya's National AI Strategy and Code of Practice expected to set foundation of AI regulation once finalized.\", \"Nigeria's draft National AI Policy underway and will pave the way for a comprehensive national AI strategy.\", 'Position paper informs Norwegian approach to AI, with sector-specific legislative amendments to regulate developments in AI.', \"The OECD's AI recommendations encourage Member States to uphold principles of trustworthy AI.\", 'Saudi Arabia is yet to enact AI Regulations, relying on guidelines to establish practice standards and general principles.', \"Singapore's AI frameworks guide AI ethical and governance principles, with existing sector-specific regulations addressing AI risks.\", 'South Africa is yet to announce any AI regulation proposals but is in the process of obtaining inputs for a draft National AI plan.', \"South Korea's AI Act to act as a consolidated body of law governing AI once approved by the National Assembly.\", \"Spain creates Europe's first AI supervisory agency and actively participates in EU AI Act negotiations.\", \"Switzerland's National AI Strategy sets out guidelines for the use of AI, and aims to finalize an AI regulatory proposal in 2025.\", 'Draft laws and guidelines are under consideration in Taiwan, with sector-specific initiatives already in place.', 'Turkey has published multiple guidelines on the use of AI in various sectors, with a bill for AI regulation now in the legislative process.', 'Mainland UAE has published an array of decrees and guidelines regarding regulation of AI, while the ADGM and DIFC free zones each rely on amendments to existing data protection laws to regulate AI.', 'The UK prioritizes a flexible framework over comprehensive regulation and emphasizes sector-specific laws.', \"The UN's new draft resolution on AI encourages Member States to implement national regulatory and governance approaches for a global consensus on safe, secure and trustworthy AI systems.\", 'The US relies on existing federal laws and guidelines to regulate AI but aims to introduce AI legislation and a federal regulation authority.', '\\n', '©White & Case LLP 1996- 2024', 'Attorney Advertising. Prior results do not guarantee a similar outcome.', 'Share a link to this page'], 'urls': ['#main-content', '/', '/people', '/law', '/insights', '/insights/trendscape', '/insights', '/', '/publications/insight/antitrust-merger-statpak-global', '/law/practices/national-security/cfius-firrma-tool', '/insight-our-thinking/dawn-raid-analysis-quarterly', 'https://whcs.law/2Qymjgo', 'https://whcs.law/37ACml3', '/insight-tool/white-case-global-non-compete-resource-center-ncrc', '/about-us', '/about-us', '/locations', '/diversity', '/responsible-business', '/news/newsroom', '/annual', '/insight-our-thinking/2023-global-citizenship-review', 'https://www.whitecase.com/careers', 'https://www.whitecase.com/careers', 'https://www.whitecase.com/careers/locations', 'https://inside.whitecase.com', 'https://alumni.whitecase.com', '#', '/', '/insights', '/insight-our-thinking/ai-watch-global-regulatory-tracker', '/insight-our-thinking/ai-watch-global-regulatory-tracker', 'https://www.whitecase.com/insight-our-thinking/ai-watch-global-regulatory-tracker#home', 'https://www.whitecase.com/insight-our-thinking/ai-watch-global-regulatory-tracker#introduction', 'https://www.whitecase.com/insight-our-thinking/ai-watch-global-regulatory-tracker#articles', '#australia', '#brazil', '#canada', '#china', '#council-of-europe', '#czech-republic', '#european-union', '#france', '#g7', '#germany', '#india', '#israel', '#italy', '#japan', '#kenya', '#nigeria', '#norway', '#oecd', '#saudi-arabia', '#singapore', '#south-africa', '#south-korea', '#spain', '#switzerland', '#taiwan', '#turkey', '#united-arab-emirates', '#united-kingdom', '#united-nations', '#united-states', 'https://www.whitecase.com/insight-our-thinking/ai-watch-global-regulatory-tracker#contacts', 'https://news.whitecase.com/5/38/forms/subscribe.asp', '#magazine-content', '/insight-alert/doj-doubles-down-warnings-against-ai-misuse', '/node/119196', '/insight-alert/pre-final-text-eus-ai-act-leaked-online', '/sites/default/files/2024-03/processing-personal-data-using-ai-systems-part-1.pdf', '/insight-our-thinking/biden-executive-order-seeks-govern-promise-and-peril-ai', '/insight-our-thinking/5-practical-considerations-users-generative-ai-tools-following-thaler-and', '/insight-alert/uspto-provides-guidance-patentability-ai-assisted-inventions', '/insight-our-thinking/laws-books-continue-apply-federal-trade-commission-convenes-technology-summit', '/insight-alert/proposed-american-privacy-rights-act-seeks-establish-comprehensive-national-framework', 'https://mergers.whitecase.com/highlights/oncology-dealmaking-fuels-biotech-ma', '/insight-alert/2024-financial-institutions-outlook-trends#artificial-intelligence', '/insight-our-thinking/ai-legal-news-summer-roundup-edition-1', '/insight-our-thinking/delivering-digital-infrastructure-ai-age', '/insight-alert/recent-regulatory-announcements-confirm-increased-scrutiny-ai-washing', '/insight-our-thinking/rise-artificial-intelligence-big-data-next-generation-international-rules', '/insight-our-thinking/technology-hottest-commodity-mining-metals-sector', '/insight-our-thinking/ai-watch-global-regulatory-tracker-australia', '/insight-our-thinking/ai-watch-global-regulatory-tracker-brazil', '/insight-our-thinking/ai-watch-global-regulatory-tracker-canada', '/insight-our-thinking/ai-watch-global-regulatory-tracker-china', '/insight-our-thinking/ai-watch-global-regulatory-tracker-council-europe', '/insight-our-thinking/ai-watch-global-regulatory-tracker-czech-republic', '/insight-our-thinking/ai-watch-global-regulatory-tracker-european-union', '/insight-our-thinking/ai-watch-global-regulatory-tracker-france', '/insight-our-thinking/ai-watch-global-regulatory-tracker-g7', '/insight-our-thinking/ai-watch-global-regulatory-tracker-germany', '/insight-our-thinking/ai-watch-global-regulatory-tracker-india', '/insight-our-thinking/ai-watch-global-regulatory-tracker-israel', '/insight-our-thinking/ai-watch-global-regulatory-tracker-italy', '/insight-our-thinking/ai-watch-global-regulatory-tracker-japan', '/insight-our-thinking/ai-watch-global-regulatory-tracker-kenya', '/insight-our-thinking/ai-watch-global-regulatory-tracker-nigeria', '/insight-our-thinking/ai-watch-global-regulatory-tracker-norway', '/insight-our-thinking/ai-watch-global-regulatory-tracker-oecd', '/insight-our-thinking/ai-watch-global-regulatory-tracker-saudi-arabia', '/insight-our-thinking/ai-watch-global-regulatory-tracker-singapore', '/insight-our-thinking/ai-watch-global-regulatory-tracker-south-africa', '/insight-our-thinking/ai-watch-global-regulatory-tracker-south-korea', '/insight-our-thinking/ai-watch-global-regulatory-tracker-spain', '/insight-our-thinking/ai-watch-global-regulatory-tracker-switzerland', '/insight-our-thinking/ai-watch-global-regulatory-tracker-taiwan', '/insight-our-thinking/ai-watch-global-regulatory-tracker-turkey', '/insight-our-thinking/ai-watch-global-regulatory-tracker-uae', '/insight-our-thinking/ai-watch-global-regulatory-tracker-united-kingdom', '/insight-our-thinking/ai-watch-global-regulatory-tracker-united-nations', '/insight-our-thinking/ai-watch-global-regulatory-tracker-united-states', '/people/tim-hickman', '/people/tim-hickman', '/people/erin-hanson', '/people/erin-hanson', '/people/sylvia-lorenz', '/people/sylvia-lorenz', '/law/industries/technology/artificial-intelligence-ai', '/law/industries/technology', '/people', '/law', '/insights/trendscape', '/insights', '/about-us/our-firm', '/locations', '/diversity/our-commitment-diversity', '/responsible-business', '/news/newsroom', '/firm/awards-rankings', '/insight-our-thinking/2023-annual-review', '/insight-our-thinking/2023-global-citizenship-review', '/careers', '/careers/locations', 'https://inside.whitecase.com', 'https://alumni.whitecase.com/', '/publications/insight/antitrust-merger-statpak-global', '/law/practices/national-security/cfius-firrma-tool', 'https://whcs.law/2Qymjgo', 'https://whcs.law/37ACml3', '/publications/insight/us-spacs-data-hub', '/publications/insight/world-transition', 'https://www.instagram.com/whitecase', 'https://www.facebook.com/whitecase/', 'https://www.linkedin.com/company/white-&-case', 'https://twitter.com/WhiteCase', 'https://www.youtube.com/user/whitecaseglobal', '/white-case-on-wechat', '/contact-us', 'https://news.whitecase.com/5/38/forms/subscribe.asp', '/legal-statement', '/legal-statement/privacy-policy', '/global-citizenship/statement-slavery-and-human-trafficking', '/remote-white-case-access', 'mailto:?subject=AI%20Watch%3A%20Global%20regulatory%20tracker&body=https://www.whitecase.com/insight-our-thinking/ai-watch-global-regulatory-tracker', 'https://www.linkedin.com/shareArticle?mini=true&url=https://www.whitecase.com/insight-our-thinking/ai-watch-global-regulatory-tracker&title=AI%20Watch%3A%20Global%20regulatory%20tracker&source=www.whitecase.com', 'https://twitter.com/intent/tweet?text=AI%20Watch%3A%20Global%20regulatory%20tracker&url=https://www.whitecase.com/insight-our-thinking/ai-watch-global-regulatory-tracker&via=WhiteCase', 'https://www.facebook.com/share.php?u=https://www.whitecase.com/insight-our-thinking/ai-watch-global-regulatory-tracker&t=AI%20Watch%3A%20Global%20regulatory%20tracker']}\n"
          ]
        }
      ]
    },
    {
      "cell_type": "code",
      "source": [
        "import re\n",
        "\n",
        "def preprocess_text(text):\n",
        "    # Remove special characters and numbers\n",
        "    text = re.sub(r'\\W', ' ', text)\n",
        "    text = re.sub(r'\\d', ' ', text)\n",
        "    # Convert to lowercase\n",
        "    text = text.lower()\n",
        "    # Remove extra spaces\n",
        "    text = re.sub(r'\\s+', ' ', text).strip()\n",
        "    return text\n",
        "\n",
        "processed_texts = [preprocess_text(text) for text in text_data]\n"
      ],
      "metadata": {
        "id": "NVn4jTnNttlE"
      },
      "execution_count": 3,
      "outputs": []
    },
    {
      "cell_type": "code",
      "source": [
        "from sklearn.feature_extraction.text import TfidfVectorizer\n",
        "\n",
        "vectorizer = TfidfVectorizer(max_features=100)\n",
        "X = vectorizer.fit_transform(processed_texts)\n",
        "keywords = vectorizer.get_feature_names_out()\n",
        "\n",
        "print(keywords)\n"
      ],
      "metadata": {
        "colab": {
          "base_uri": "https://localhost:8080/"
        },
        "id": "e8FS5KvxtvHj",
        "outputId": "2b58b3e8-a82d-4f0d-fbce-03aa568e3bb5"
      },
      "execution_count": 4,
      "outputs": [
        {
          "output_type": "stream",
          "name": "stdout",
          "text": [
            "['act' 'actively' 'ai' 'an' 'and' 'approach' 'approaches' 'are' 'around'\n",
            " 'as' 'at' 'businesses' 'but' 'by' 'compliance' 'core' 'development'\n",
            " 'developments' 'different' 'do' 'draft' 'each' 'encouraging' 'engages'\n",
            " 'enormous' 'ensure' 'ethical' 'eu' 'europe' 'existing' 'expected' 'face'\n",
            " 'federal' 'first' 'for' 'frameworks' 'from' 'global' 'governance' 'guide'\n",
            " 'guidelines' 'has' 'have' 'human' 'in' 'inconsistent' 'initiatives'\n",
            " 'innovation' 'international' 'into' 'introduce' 'is' 'issues' 'it'\n",
            " 'jurisdictions' 'law' 'laws' 'member' 'national' 'new' 'of' 'on' 'or'\n",
            " 'policy' 'potential' 'practice' 'principles' 'process' 'proposal'\n",
            " 'provide' 'provides' 'public' 'published' 'regulate' 'regulation'\n",
            " 'regulations' 'regulatory' 'responsible' 'rights' 'rise' 'risk' 'risks'\n",
            " 'safe' 'sector' 'sectors' 'specific' 'states' 'strategy' 'taken' 'that'\n",
            " 'the' 'these' 'they' 'this' 'to' 'trustworthy' 'will' 'with' 'world'\n",
            " 'yet']\n"
          ]
        }
      ]
    },
    {
      "cell_type": "code",
      "source": [
        "import pandas as pd\n",
        "\n",
        "# Determine the shortest length among the lists\n",
        "min_length = min(len(processed_texts), len(urls))\n",
        "\n",
        "df = pd.DataFrame({\n",
        "    \"text\": processed_texts[:min_length],  # Use slicing to ensure equal lengths\n",
        "    \"urls\": urls[:min_length]\n",
        "})\n",
        "\n",
        "df.to_csv(\"fine_tuning_data.csv\", index=False)"
      ],
      "metadata": {
        "id": "Zqj3qcjot3Rm"
      },
      "execution_count": 7,
      "outputs": []
    },
    {
      "cell_type": "code",
      "source": [
        "!pip install datasets transformers\n",
        "import pandas as pd\n",
        "from transformers import BertTokenizer, BertForSequenceClassification, Trainer, TrainingArguments\n",
        "from datasets import load_dataset, Dataset\n",
        "\n",
        "# Load pre-trained model and tokenizer\n",
        "model_name = \"bert-base-uncased\"\n",
        "tokenizer = BertTokenizer.from_pretrained(model_name)\n",
        "model = BertForSequenceClassification.from_pretrained(model_name)\n",
        "\n",
        "# Tokenize data\n",
        "def tokenize_function(examples):\n",
        "    return tokenizer(examples[\"text\"], padding=\"max_length\", truncation=True)\n",
        "\n",
        "# Use the datasets library's map function instead of pandas\n",
        "tokenized_datasets = Dataset.from_pandas(df).map(tokenize_function, batched=True)\n",
        "\n",
        "# Training arguments\n",
        "training_args = TrainingArguments(\n",
        "    output_dir=\"./results\",\n",
        "    evaluation_strategy=\"epoch\",\n",
        "    learning_rate=2e-5,\n",
        "    per_device_train_batch_size=16,\n",
        "    per_device_eval_batch_size=16,\n",
        "    num_train_epochs=3,\n",
        "    weight_decay=0.01,\n",
        ")\n",
        "\n",
        "# Trainer\n",
        "trainer = Trainer(\n",
        "    model=model,\n",
        "    args=training_args,\n",
        "    train_dataset=tokenized_datasets[\"train\"],\n",
        "    eval_dataset=tokenized_datasets[\"test\"]\n",
        ")\n",
        "\n",
        "# Train model\n",
        "trainer.train()"
      ],
      "metadata": {
        "colab": {
          "base_uri": "https://localhost:8080/",
          "height": 1000
        },
        "id": "Aq26TxF8ue2a",
        "outputId": "7ed29b8f-1990-4c22-ab6e-2eb11f435d9f"
      },
      "execution_count": 10,
      "outputs": [
        {
          "output_type": "stream",
          "name": "stdout",
          "text": [
            "Collecting datasets\n",
            "  Downloading datasets-3.0.0-py3-none-any.whl.metadata (19 kB)\n",
            "Requirement already satisfied: transformers in /usr/local/lib/python3.10/dist-packages (4.44.2)\n",
            "Requirement already satisfied: filelock in /usr/local/lib/python3.10/dist-packages (from datasets) (3.16.1)\n",
            "Requirement already satisfied: numpy>=1.17 in /usr/local/lib/python3.10/dist-packages (from datasets) (1.26.4)\n",
            "Collecting pyarrow>=15.0.0 (from datasets)\n",
            "  Downloading pyarrow-17.0.0-cp310-cp310-manylinux_2_28_x86_64.whl.metadata (3.3 kB)\n",
            "Collecting dill<0.3.9,>=0.3.0 (from datasets)\n",
            "  Downloading dill-0.3.8-py3-none-any.whl.metadata (10 kB)\n",
            "Requirement already satisfied: pandas in /usr/local/lib/python3.10/dist-packages (from datasets) (2.1.4)\n",
            "Requirement already satisfied: requests>=2.32.2 in /usr/local/lib/python3.10/dist-packages (from datasets) (2.32.3)\n",
            "Requirement already satisfied: tqdm>=4.66.3 in /usr/local/lib/python3.10/dist-packages (from datasets) (4.66.5)\n",
            "Collecting xxhash (from datasets)\n",
            "  Downloading xxhash-3.5.0-cp310-cp310-manylinux_2_17_x86_64.manylinux2014_x86_64.whl.metadata (12 kB)\n",
            "Collecting multiprocess (from datasets)\n",
            "  Downloading multiprocess-0.70.16-py310-none-any.whl.metadata (7.2 kB)\n",
            "Requirement already satisfied: fsspec<=2024.6.1,>=2023.1.0 in /usr/local/lib/python3.10/dist-packages (from fsspec[http]<=2024.6.1,>=2023.1.0->datasets) (2024.6.1)\n",
            "Requirement already satisfied: aiohttp in /usr/local/lib/python3.10/dist-packages (from datasets) (3.10.5)\n",
            "Requirement already satisfied: huggingface-hub>=0.22.0 in /usr/local/lib/python3.10/dist-packages (from datasets) (0.24.7)\n",
            "Requirement already satisfied: packaging in /usr/local/lib/python3.10/dist-packages (from datasets) (24.1)\n",
            "Requirement already satisfied: pyyaml>=5.1 in /usr/local/lib/python3.10/dist-packages (from datasets) (6.0.2)\n",
            "Requirement already satisfied: regex!=2019.12.17 in /usr/local/lib/python3.10/dist-packages (from transformers) (2024.9.11)\n",
            "Requirement already satisfied: safetensors>=0.4.1 in /usr/local/lib/python3.10/dist-packages (from transformers) (0.4.5)\n",
            "Requirement already satisfied: tokenizers<0.20,>=0.19 in /usr/local/lib/python3.10/dist-packages (from transformers) (0.19.1)\n",
            "Requirement already satisfied: aiohappyeyeballs>=2.3.0 in /usr/local/lib/python3.10/dist-packages (from aiohttp->datasets) (2.4.0)\n",
            "Requirement already satisfied: aiosignal>=1.1.2 in /usr/local/lib/python3.10/dist-packages (from aiohttp->datasets) (1.3.1)\n",
            "Requirement already satisfied: attrs>=17.3.0 in /usr/local/lib/python3.10/dist-packages (from aiohttp->datasets) (24.2.0)\n",
            "Requirement already satisfied: frozenlist>=1.1.1 in /usr/local/lib/python3.10/dist-packages (from aiohttp->datasets) (1.4.1)\n",
            "Requirement already satisfied: multidict<7.0,>=4.5 in /usr/local/lib/python3.10/dist-packages (from aiohttp->datasets) (6.1.0)\n",
            "Requirement already satisfied: yarl<2.0,>=1.0 in /usr/local/lib/python3.10/dist-packages (from aiohttp->datasets) (1.11.1)\n",
            "Requirement already satisfied: async-timeout<5.0,>=4.0 in /usr/local/lib/python3.10/dist-packages (from aiohttp->datasets) (4.0.3)\n",
            "Requirement already satisfied: typing-extensions>=3.7.4.3 in /usr/local/lib/python3.10/dist-packages (from huggingface-hub>=0.22.0->datasets) (4.12.2)\n",
            "Requirement already satisfied: charset-normalizer<4,>=2 in /usr/local/lib/python3.10/dist-packages (from requests>=2.32.2->datasets) (3.3.2)\n",
            "Requirement already satisfied: idna<4,>=2.5 in /usr/local/lib/python3.10/dist-packages (from requests>=2.32.2->datasets) (3.10)\n",
            "Requirement already satisfied: urllib3<3,>=1.21.1 in /usr/local/lib/python3.10/dist-packages (from requests>=2.32.2->datasets) (2.2.3)\n",
            "Requirement already satisfied: certifi>=2017.4.17 in /usr/local/lib/python3.10/dist-packages (from requests>=2.32.2->datasets) (2024.8.30)\n",
            "Requirement already satisfied: python-dateutil>=2.8.2 in /usr/local/lib/python3.10/dist-packages (from pandas->datasets) (2.8.2)\n",
            "Requirement already satisfied: pytz>=2020.1 in /usr/local/lib/python3.10/dist-packages (from pandas->datasets) (2024.2)\n",
            "Requirement already satisfied: tzdata>=2022.1 in /usr/local/lib/python3.10/dist-packages (from pandas->datasets) (2024.1)\n",
            "Requirement already satisfied: six>=1.5 in /usr/local/lib/python3.10/dist-packages (from python-dateutil>=2.8.2->pandas->datasets) (1.16.0)\n",
            "Downloading datasets-3.0.0-py3-none-any.whl (474 kB)\n",
            "\u001b[2K   \u001b[90m━━━━━━━━━━━━━━━━━━━━━━━━━━━━━━━━━━━━━━━━\u001b[0m \u001b[32m474.3/474.3 kB\u001b[0m \u001b[31m3.8 MB/s\u001b[0m eta \u001b[36m0:00:00\u001b[0m\n",
            "\u001b[?25hDownloading dill-0.3.8-py3-none-any.whl (116 kB)\n",
            "\u001b[2K   \u001b[90m━━━━━━━━━━━━━━━━━━━━━━━━━━━━━━━━━━━━━━━━\u001b[0m \u001b[32m116.3/116.3 kB\u001b[0m \u001b[31m6.6 MB/s\u001b[0m eta \u001b[36m0:00:00\u001b[0m\n",
            "\u001b[?25hDownloading pyarrow-17.0.0-cp310-cp310-manylinux_2_28_x86_64.whl (39.9 MB)\n",
            "\u001b[2K   \u001b[90m━━━━━━━━━━━━━━━━━━━━━━━━━━━━━━━━━━━━━━━━\u001b[0m \u001b[32m39.9/39.9 MB\u001b[0m \u001b[31m12.7 MB/s\u001b[0m eta \u001b[36m0:00:00\u001b[0m\n",
            "\u001b[?25hDownloading multiprocess-0.70.16-py310-none-any.whl (134 kB)\n",
            "\u001b[2K   \u001b[90m━━━━━━━━━━━━━━━━━━━━━━━━━━━━━━━━━━━━━━━━\u001b[0m \u001b[32m134.8/134.8 kB\u001b[0m \u001b[31m5.8 MB/s\u001b[0m eta \u001b[36m0:00:00\u001b[0m\n",
            "\u001b[?25hDownloading xxhash-3.5.0-cp310-cp310-manylinux_2_17_x86_64.manylinux2014_x86_64.whl (194 kB)\n",
            "\u001b[2K   \u001b[90m━━━━━━━━━━━━━━━━━━━━━━━━━━━━━━━━━━━━━━━━\u001b[0m \u001b[32m194.1/194.1 kB\u001b[0m \u001b[31m4.4 MB/s\u001b[0m eta \u001b[36m0:00:00\u001b[0m\n",
            "\u001b[?25hInstalling collected packages: xxhash, pyarrow, dill, multiprocess, datasets\n",
            "  Attempting uninstall: pyarrow\n",
            "    Found existing installation: pyarrow 14.0.2\n",
            "    Uninstalling pyarrow-14.0.2:\n",
            "      Successfully uninstalled pyarrow-14.0.2\n",
            "\u001b[31mERROR: pip's dependency resolver does not currently take into account all the packages that are installed. This behaviour is the source of the following dependency conflicts.\n",
            "cudf-cu12 24.4.1 requires pyarrow<15.0.0a0,>=14.0.1, but you have pyarrow 17.0.0 which is incompatible.\n",
            "ibis-framework 8.0.0 requires pyarrow<16,>=2, but you have pyarrow 17.0.0 which is incompatible.\u001b[0m\u001b[31m\n",
            "\u001b[0mSuccessfully installed datasets-3.0.0 dill-0.3.8 multiprocess-0.70.16 pyarrow-17.0.0 xxhash-3.5.0\n"
          ]
        },
        {
          "output_type": "display_data",
          "data": {
            "application/vnd.colab-display-data+json": {
              "pip_warning": {
                "packages": [
                  "pyarrow"
                ]
              },
              "id": "2ded755cf45e447d85bfeff4f60fbf23"
            }
          },
          "metadata": {}
        },
        {
          "output_type": "error",
          "ename": "AttributeError",
          "evalue": "module 'pyarrow.lib' has no attribute 'ListViewType'",
          "traceback": [
            "\u001b[0;31m---------------------------------------------------------------------------\u001b[0m",
            "\u001b[0;31mAttributeError\u001b[0m                            Traceback (most recent call last)",
            "\u001b[0;32m<ipython-input-10-ce603378f6c5>\u001b[0m in \u001b[0;36m<cell line: 4>\u001b[0;34m()\u001b[0m\n\u001b[1;32m      2\u001b[0m \u001b[0;32mimport\u001b[0m \u001b[0mpandas\u001b[0m \u001b[0;32mas\u001b[0m \u001b[0mpd\u001b[0m\u001b[0;34m\u001b[0m\u001b[0;34m\u001b[0m\u001b[0m\n\u001b[1;32m      3\u001b[0m \u001b[0;32mfrom\u001b[0m \u001b[0mtransformers\u001b[0m \u001b[0;32mimport\u001b[0m \u001b[0mBertTokenizer\u001b[0m\u001b[0;34m,\u001b[0m \u001b[0mBertForSequenceClassification\u001b[0m\u001b[0;34m,\u001b[0m \u001b[0mTrainer\u001b[0m\u001b[0;34m,\u001b[0m \u001b[0mTrainingArguments\u001b[0m\u001b[0;34m\u001b[0m\u001b[0;34m\u001b[0m\u001b[0m\n\u001b[0;32m----> 4\u001b[0;31m \u001b[0;32mfrom\u001b[0m \u001b[0mdatasets\u001b[0m \u001b[0;32mimport\u001b[0m \u001b[0mload_dataset\u001b[0m\u001b[0;34m,\u001b[0m \u001b[0mDataset\u001b[0m\u001b[0;34m\u001b[0m\u001b[0;34m\u001b[0m\u001b[0m\n\u001b[0m\u001b[1;32m      5\u001b[0m \u001b[0;34m\u001b[0m\u001b[0m\n\u001b[1;32m      6\u001b[0m \u001b[0;31m# Load pre-trained model and tokenizer\u001b[0m\u001b[0;34m\u001b[0m\u001b[0;34m\u001b[0m\u001b[0m\n",
            "\u001b[0;32m/usr/local/lib/python3.10/dist-packages/datasets/__init__.py\u001b[0m in \u001b[0;36m<module>\u001b[0;34m\u001b[0m\n\u001b[1;32m     15\u001b[0m \u001b[0m__version__\u001b[0m \u001b[0;34m=\u001b[0m \u001b[0;34m\"3.0.0\"\u001b[0m\u001b[0;34m\u001b[0m\u001b[0;34m\u001b[0m\u001b[0m\n\u001b[1;32m     16\u001b[0m \u001b[0;34m\u001b[0m\u001b[0m\n\u001b[0;32m---> 17\u001b[0;31m \u001b[0;32mfrom\u001b[0m \u001b[0;34m.\u001b[0m\u001b[0marrow_dataset\u001b[0m \u001b[0;32mimport\u001b[0m \u001b[0mDataset\u001b[0m\u001b[0;34m\u001b[0m\u001b[0;34m\u001b[0m\u001b[0m\n\u001b[0m\u001b[1;32m     18\u001b[0m \u001b[0;32mfrom\u001b[0m \u001b[0;34m.\u001b[0m\u001b[0marrow_reader\u001b[0m \u001b[0;32mimport\u001b[0m \u001b[0mReadInstruction\u001b[0m\u001b[0;34m\u001b[0m\u001b[0;34m\u001b[0m\u001b[0m\n\u001b[1;32m     19\u001b[0m \u001b[0;32mfrom\u001b[0m \u001b[0;34m.\u001b[0m\u001b[0mbuilder\u001b[0m \u001b[0;32mimport\u001b[0m \u001b[0mArrowBasedBuilder\u001b[0m\u001b[0;34m,\u001b[0m \u001b[0mBuilderConfig\u001b[0m\u001b[0;34m,\u001b[0m \u001b[0mDatasetBuilder\u001b[0m\u001b[0;34m,\u001b[0m \u001b[0mGeneratorBasedBuilder\u001b[0m\u001b[0;34m\u001b[0m\u001b[0;34m\u001b[0m\u001b[0m\n",
            "\u001b[0;32m/usr/local/lib/python3.10/dist-packages/datasets/arrow_dataset.py\u001b[0m in \u001b[0;36m<module>\u001b[0;34m\u001b[0m\n\u001b[1;32m     74\u001b[0m \u001b[0;34m\u001b[0m\u001b[0m\n\u001b[1;32m     75\u001b[0m \u001b[0;32mfrom\u001b[0m \u001b[0;34m.\u001b[0m \u001b[0;32mimport\u001b[0m \u001b[0mconfig\u001b[0m\u001b[0;34m\u001b[0m\u001b[0;34m\u001b[0m\u001b[0m\n\u001b[0;32m---> 76\u001b[0;31m \u001b[0;32mfrom\u001b[0m \u001b[0;34m.\u001b[0m\u001b[0marrow_reader\u001b[0m \u001b[0;32mimport\u001b[0m \u001b[0mArrowReader\u001b[0m\u001b[0;34m\u001b[0m\u001b[0;34m\u001b[0m\u001b[0m\n\u001b[0m\u001b[1;32m     77\u001b[0m \u001b[0;32mfrom\u001b[0m \u001b[0;34m.\u001b[0m\u001b[0marrow_writer\u001b[0m \u001b[0;32mimport\u001b[0m \u001b[0mArrowWriter\u001b[0m\u001b[0;34m,\u001b[0m \u001b[0mOptimizedTypedSequence\u001b[0m\u001b[0;34m\u001b[0m\u001b[0;34m\u001b[0m\u001b[0m\n\u001b[1;32m     78\u001b[0m \u001b[0;32mfrom\u001b[0m \u001b[0;34m.\u001b[0m\u001b[0mdata_files\u001b[0m \u001b[0;32mimport\u001b[0m \u001b[0msanitize_patterns\u001b[0m\u001b[0;34m\u001b[0m\u001b[0;34m\u001b[0m\u001b[0m\n",
            "\u001b[0;32m/usr/local/lib/python3.10/dist-packages/datasets/arrow_reader.py\u001b[0m in \u001b[0;36m<module>\u001b[0;34m\u001b[0m\n\u001b[1;32m     25\u001b[0m \u001b[0;34m\u001b[0m\u001b[0m\n\u001b[1;32m     26\u001b[0m \u001b[0;32mimport\u001b[0m \u001b[0mpyarrow\u001b[0m \u001b[0;32mas\u001b[0m \u001b[0mpa\u001b[0m\u001b[0;34m\u001b[0m\u001b[0;34m\u001b[0m\u001b[0m\n\u001b[0;32m---> 27\u001b[0;31m \u001b[0;32mimport\u001b[0m \u001b[0mpyarrow\u001b[0m\u001b[0;34m.\u001b[0m\u001b[0mparquet\u001b[0m \u001b[0;32mas\u001b[0m \u001b[0mpq\u001b[0m\u001b[0;34m\u001b[0m\u001b[0;34m\u001b[0m\u001b[0m\n\u001b[0m\u001b[1;32m     28\u001b[0m \u001b[0;32mfrom\u001b[0m \u001b[0mtqdm\u001b[0m\u001b[0;34m.\u001b[0m\u001b[0mcontrib\u001b[0m\u001b[0;34m.\u001b[0m\u001b[0mconcurrent\u001b[0m \u001b[0;32mimport\u001b[0m \u001b[0mthread_map\u001b[0m\u001b[0;34m\u001b[0m\u001b[0;34m\u001b[0m\u001b[0m\n\u001b[1;32m     29\u001b[0m \u001b[0;34m\u001b[0m\u001b[0m\n",
            "\u001b[0;32m/usr/local/lib/python3.10/dist-packages/pyarrow/parquet/__init__.py\u001b[0m in \u001b[0;36m<module>\u001b[0;34m\u001b[0m\n\u001b[1;32m     18\u001b[0m \u001b[0;31m# flake8: noqa\u001b[0m\u001b[0;34m\u001b[0m\u001b[0;34m\u001b[0m\u001b[0m\n\u001b[1;32m     19\u001b[0m \u001b[0;34m\u001b[0m\u001b[0m\n\u001b[0;32m---> 20\u001b[0;31m \u001b[0;32mfrom\u001b[0m \u001b[0;34m.\u001b[0m\u001b[0mcore\u001b[0m \u001b[0;32mimport\u001b[0m \u001b[0;34m*\u001b[0m\u001b[0;34m\u001b[0m\u001b[0;34m\u001b[0m\u001b[0m\n\u001b[0m",
            "\u001b[0;32m/usr/local/lib/python3.10/dist-packages/pyarrow/parquet/core.py\u001b[0m in \u001b[0;36m<module>\u001b[0;34m\u001b[0m\n\u001b[1;32m     31\u001b[0m \u001b[0;34m\u001b[0m\u001b[0m\n\u001b[1;32m     32\u001b[0m \u001b[0;32mtry\u001b[0m\u001b[0;34m:\u001b[0m\u001b[0;34m\u001b[0m\u001b[0;34m\u001b[0m\u001b[0m\n\u001b[0;32m---> 33\u001b[0;31m     \u001b[0;32mimport\u001b[0m \u001b[0mpyarrow\u001b[0m\u001b[0;34m.\u001b[0m\u001b[0m_parquet\u001b[0m \u001b[0;32mas\u001b[0m \u001b[0m_parquet\u001b[0m\u001b[0;34m\u001b[0m\u001b[0;34m\u001b[0m\u001b[0m\n\u001b[0m\u001b[1;32m     34\u001b[0m \u001b[0;32mexcept\u001b[0m \u001b[0mImportError\u001b[0m \u001b[0;32mas\u001b[0m \u001b[0mexc\u001b[0m\u001b[0;34m:\u001b[0m\u001b[0;34m\u001b[0m\u001b[0;34m\u001b[0m\u001b[0m\n\u001b[1;32m     35\u001b[0m     raise ImportError(\n",
            "\u001b[0;32m/usr/local/lib/python3.10/dist-packages/pyarrow/_parquet.pyx\u001b[0m in \u001b[0;36minit pyarrow._parquet\u001b[0;34m()\u001b[0m\n",
            "\u001b[0;31mAttributeError\u001b[0m: module 'pyarrow.lib' has no attribute 'ListViewType'"
          ]
        }
      ]
    }
  ]
}